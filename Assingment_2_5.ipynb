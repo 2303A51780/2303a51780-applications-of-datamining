{
  "nbformat": 4,
  "nbformat_minor": 0,
  "metadata": {
    "colab": {
      "provenance": [],
      "authorship_tag": "ABX9TyNVBYAFeA00nNHJT11ApXyQ",
      "include_colab_link": true
    },
    "kernelspec": {
      "name": "python3",
      "display_name": "Python 3"
    },
    "language_info": {
      "name": "python"
    }
  },
  "cells": [
    {
      "cell_type": "markdown",
      "metadata": {
        "id": "view-in-github",
        "colab_type": "text"
      },
      "source": [
        "<a href=\"https://colab.research.google.com/github/2303A51780/2303a51780-applications-of-datamining/blob/main/Assingment_2_5.ipynb\" target=\"_parent\"><img src=\"https://colab.research.google.com/assets/colab-badge.svg\" alt=\"Open In Colab\"/></a>"
      ]
    },
    {
      "cell_type": "code",
      "execution_count": 2,
      "metadata": {
        "colab": {
          "base_uri": "https://localhost:8080/"
        },
        "id": "yI2ReiGW5QCq",
        "outputId": "8473e704-2c29-4246-dfb5-2cc8032169b7"
      },
      "outputs": [
        {
          "output_type": "stream",
          "name": "stdout",
          "text": [
            "      id               name               nationality                 city  \\\n",
            "0      0          Kiana Lor                     China               Suzhou   \n",
            "1      1     Joshua Lonaker  United States of America        Santa Clarita   \n",
            "2      2      Dakota Blanco  United States of America              Oakland   \n",
            "3      3    Natasha Yarusso  United States of America        Castro Valley   \n",
            "4      4     Brooke Cazares                    Brazil  São José dos Campos   \n",
            "..   ...                ...                       ...                  ...   \n",
            "302  302        Austin Haas  United States of America             Columbus   \n",
            "303  303    Madison Fithian  United States of America          Los Angeles   \n",
            "304  304  Zachary Mulvahill  United States of America          Los Angeles   \n",
            "305  305   Eliana Michelsen  United States of America              Oakland   \n",
            "306  306    Dane Whittemore                    Canada              Toronto   \n",
            "\n",
            "     latitude  longitude gender  age  english.grade  math.grade  \\\n",
            "0       31.31     120.62      F   22            3.5         3.7   \n",
            "1       34.39    -118.54      M   22            2.9         3.2   \n",
            "2       37.80    -122.27      F   22            3.9         3.8   \n",
            "3       37.69    -122.09      F   20            3.3         2.8   \n",
            "4      -23.18     -45.88      F   21            3.7         2.6   \n",
            "..        ...        ...    ...  ...            ...         ...   \n",
            "302     39.96     -83.00      M   20            3.6         3.7   \n",
            "303     34.05    -118.24      F   20            3.6         3.9   \n",
            "304     34.05    -118.24      M   20            3.2         3.4   \n",
            "305     37.80    -122.27      F   23            3.0         2.8   \n",
            "306     43.67     -79.42      M   21            3.8         3.2   \n",
            "\n",
            "     sciences.grade  language.grade  portfolio.rating  coverletter.rating  \\\n",
            "0               3.1             1.0                 4                 4.0   \n",
            "1               3.6             5.0                 5                 4.0   \n",
            "2               3.2             5.0                 3                 3.0   \n",
            "3               NaN             5.0                 5                 2.0   \n",
            "4               3.4             1.0                 4                 4.0   \n",
            "..              ...             ...               ...                 ...   \n",
            "302             3.1             5.0                 4                 5.0   \n",
            "303             4.0             5.0                 5                 5.0   \n",
            "304             3.9             5.0                 5                 5.0   \n",
            "305             2.9             5.0                 4                 4.0   \n",
            "306             4.0             5.0                 5                 4.0   \n",
            "\n",
            "     refletter.rating  \n",
            "0                   4  \n",
            "1                   5  \n",
            "2                   4  \n",
            "3                   4  \n",
            "4                   5  \n",
            "..                ...  \n",
            "302                 5  \n",
            "303                 3  \n",
            "304                 3  \n",
            "305                 5  \n",
            "306                 5  \n",
            "\n",
            "[307 rows x 15 columns]\n"
          ]
        }
      ],
      "source": [
        "import pandas as pd\n",
        "df = pd.read_csv('/content/student-dataset.csv')\n",
        "print(df)"
      ]
    },
    {
      "cell_type": "code",
      "source": [
        "median_sciences_grade = df['sciences.grade'].median()\n",
        "median_language_grade = df['language.grade'].median()\n",
        "df['sciences.grade_median'] = df['sciences.grade'].fillna(median_sciences_grade)\n",
        "df['language.grade_median'] = df['language.grade'].fillna(median_language_grade)\n",
        "print(df['sciences.grade'])\n",
        "print(df['language.grade'])\n",
        "print(df.head())"
      ],
      "metadata": {
        "colab": {
          "base_uri": "https://localhost:8080/"
        },
        "id": "viVCyXQg6dMl",
        "outputId": "082e7fb7-bf70-459f-d953-1432a70abc37"
      },
      "execution_count": 9,
      "outputs": [
        {
          "output_type": "stream",
          "name": "stdout",
          "text": [
            "0      3.1\n",
            "1      3.6\n",
            "2      3.2\n",
            "3      NaN\n",
            "4      3.4\n",
            "      ... \n",
            "302    3.1\n",
            "303    4.0\n",
            "304    3.9\n",
            "305    2.9\n",
            "306    4.0\n",
            "Name: sciences.grade, Length: 307, dtype: float64\n",
            "0      1.0\n",
            "1      5.0\n",
            "2      5.0\n",
            "3      5.0\n",
            "4      1.0\n",
            "      ... \n",
            "302    5.0\n",
            "303    5.0\n",
            "304    5.0\n",
            "305    5.0\n",
            "306    5.0\n",
            "Name: language.grade, Length: 307, dtype: float64\n",
            "   id             name               nationality                 city  \\\n",
            "0   0        Kiana Lor                     China               Suzhou   \n",
            "1   1   Joshua Lonaker  United States of America        Santa Clarita   \n",
            "2   2    Dakota Blanco  United States of America              Oakland   \n",
            "3   3  Natasha Yarusso  United States of America        Castro Valley   \n",
            "4   4   Brooke Cazares                    Brazil  São José dos Campos   \n",
            "\n",
            "   latitude  longitude gender  age  english.grade  math.grade  sciences.grade  \\\n",
            "0     31.31     120.62      F   22            3.5         3.7             3.1   \n",
            "1     34.39    -118.54      M   22            2.9         3.2             3.6   \n",
            "2     37.80    -122.27      F   22            3.9         3.8             3.2   \n",
            "3     37.69    -122.09      F   20            3.3         2.8             NaN   \n",
            "4    -23.18     -45.88      F   21            3.7         2.6             3.4   \n",
            "\n",
            "   language.grade  portfolio.rating  coverletter.rating  refletter.rating  \\\n",
            "0             1.0                 4                 4.0                 4   \n",
            "1             5.0                 5                 4.0                 5   \n",
            "2             5.0                 3                 3.0                 4   \n",
            "3             5.0                 5                 2.0                 4   \n",
            "4             1.0                 4                 4.0                 5   \n",
            "\n",
            "   sciences.grade_median  language.grade_median  \n",
            "0                    3.1                    1.0  \n",
            "1                    3.6                    5.0  \n",
            "2                    3.2                    5.0  \n",
            "3                    3.6                    5.0  \n",
            "4                    3.4                    1.0  \n"
          ]
        }
      ]
    },
    {
      "cell_type": "code",
      "source": [
        "import numpy as np\n",
        "from sklearn.preprocessing import MinMaxScaler\n",
        "data = df.select_dtypes(include=np.number)\n",
        "scaler = MinMaxScaler()\n",
        "normalized_data = scaler.fit_transform(data)\n",
        "print(\"Normalized Data (Min-Max Scaling):\")\n",
        "print(normalized_data)"
      ],
      "metadata": {
        "colab": {
          "base_uri": "https://localhost:8080/"
        },
        "id": "GJ_GS2Lo9Syd",
        "outputId": "0594c9c6-6f69-4eb8-8dcd-0df16ff310c5"
      },
      "execution_count": 11,
      "outputs": [
        {
          "output_type": "stream",
          "name": "stdout",
          "text": [
            "Normalized Data (Min-Max Scaling):\n",
            "[[0.         0.69380759 0.92722915 ... 0.75       0.65384615 0.        ]\n",
            " [0.00326797 0.72680523 0.01746044 ... 1.         0.84615385 1.        ]\n",
            " [0.00653595 0.76333833 0.00327145 ... 0.75       0.69230769 1.        ]\n",
            " ...\n",
            " [0.99346405 0.72316263 0.01860164 ... 0.5        0.96153846 1.        ]\n",
            " [0.99673203 0.76333833 0.00327145 ... 1.         0.57692308 1.        ]\n",
            " [1.         0.8262267  0.16627358 ... 1.         1.         1.        ]]\n"
          ]
        }
      ]
    }
  ]
}